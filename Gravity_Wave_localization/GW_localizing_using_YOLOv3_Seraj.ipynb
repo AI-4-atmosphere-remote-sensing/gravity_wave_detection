{
  "nbformat": 4,
  "nbformat_minor": 0,
  "metadata": {
    "colab": {
      "provenance": [],
      "collapsed_sections": []
    },
    "kernelspec": {
      "name": "python3",
      "display_name": "Python 3"
    },
    "accelerator": "GPU",
    "gpuClass": "standard"
  },
  "cells": [
    {
      "cell_type": "code",
      "metadata": {
        "id": "HCs4VQmESACk",
        "colab": {
          "base_uri": "https://localhost:8080/"
        },
        "outputId": "feaad1cb-3f33-4c7c-f2c4-dc1ea5b39ad8"
      },
      "source": [
        "# clone darknet repo\n",
        "!git clone https://github.com/AlexeyAB/darknet"
      ],
      "execution_count": null,
      "outputs": [
        {
          "output_type": "stream",
          "name": "stdout",
          "text": [
            "Cloning into 'darknet'...\n",
            "remote: Enumerating objects: 15494, done.\u001b[K\n",
            "remote: Counting objects: 100% (4/4), done.\u001b[K\n",
            "remote: Compressing objects: 100% (4/4), done.\u001b[K\n",
            "remote: Total 15494 (delta 0), reused 1 (delta 0), pack-reused 15490\u001b[K\n",
            "Receiving objects: 100% (15494/15494), 14.09 MiB | 7.11 MiB/s, done.\n",
            "Resolving deltas: 100% (10411/10411), done.\n"
          ]
        }
      ]
    },
    {
      "cell_type": "code",
      "metadata": {
        "id": "5H-Taj06Tw1c",
        "colab": {
          "base_uri": "https://localhost:8080/"
        },
        "outputId": "31d8aefd-850b-447e-965e-f5650f82fa46"
      },
      "source": [
        "# change makefile to have GPU and OPENCV enabled\n",
        "%cd darknet\n",
        "!sed -i 's/OPENCV=0/OPENCV=1/' Makefile\n",
        "!sed -i 's/GPU=0/GPU=1/' Makefile\n",
        "!sed -i 's/CUDNN=0/CUDNN=1/' Makefile"
      ],
      "execution_count": null,
      "outputs": [
        {
          "output_type": "stream",
          "name": "stdout",
          "text": [
            "/content/darknet\n"
          ]
        }
      ]
    },
    {
      "cell_type": "code",
      "metadata": {
        "id": "aNv1UHwXZK57",
        "colab": {
          "base_uri": "https://localhost:8080/"
        },
        "outputId": "c72e9eb9-cec9-4144-e438-7caa8a133ce1"
      },
      "source": [
        "# verify CUDA\n",
        "!/usr/local/cuda/bin/nvcc --version"
      ],
      "execution_count": null,
      "outputs": [
        {
          "output_type": "stream",
          "name": "stdout",
          "text": [
            "nvcc: NVIDIA (R) Cuda compiler driver\n",
            "Copyright (c) 2005-2021 NVIDIA Corporation\n",
            "Built on Sun_Feb_14_21:12:58_PST_2021\n",
            "Cuda compilation tools, release 11.2, V11.2.152\n",
            "Build cuda_11.2.r11.2/compiler.29618528_0\n"
          ]
        }
      ]
    },
    {
      "cell_type": "code",
      "metadata": {
        "id": "3DWRrVatZZZg"
      },
      "source": [
        "# make darknet (build)\n",
        "!make"
      ],
      "execution_count": null,
      "outputs": []
    },
    {
      "cell_type": "markdown",
      "metadata": {
        "id": "47-d_3xy36U9"
      },
      "source": [
        "### Download pretrained YOLOv3 weights\n"
      ]
    },
    {
      "cell_type": "code",
      "metadata": {
        "id": "9QDHhDMgZTE9",
        "colab": {
          "base_uri": "https://localhost:8080/"
        },
        "outputId": "9d11b684-164c-4caa-aefa-b0835066371f"
      },
      "source": [
        "# get yolov3 pretrained coco dataset weights\n",
        "!wget https://pjreddie.com/media/files/yolov3.weights"
      ],
      "execution_count": null,
      "outputs": [
        {
          "output_type": "stream",
          "name": "stdout",
          "text": [
            "--2022-11-01 18:38:00--  https://pjreddie.com/media/files/yolov3.weights\n",
            "Resolving pjreddie.com (pjreddie.com)... 128.208.4.108\n",
            "Connecting to pjreddie.com (pjreddie.com)|128.208.4.108|:443... connected.\n",
            "HTTP request sent, awaiting response... 200 OK\n",
            "Length: 248007048 (237M) [application/octet-stream]\n",
            "Saving to: ‘yolov3.weights’\n",
            "\n",
            "yolov3.weights      100%[===================>] 236.52M  17.0MB/s    in 15s     \n",
            "\n",
            "2022-11-01 18:38:16 (15.6 MB/s) - ‘yolov3.weights’ saved [248007048/248007048]\n",
            "\n"
          ]
        }
      ]
    },
    {
      "cell_type": "code",
      "metadata": {
        "id": "w4Pm0VoqmGia"
      },
      "source": [
        "%matplotlib inline\n",
        "import cv2\n",
        "import matplotlib.pyplot as plt\n",
        "\n",
        "# define helper functions\n",
        "def imShow(path):\n",
        "  # import cv2\n",
        "  # import matplotlib.pyplot as plt\n",
        "  # %matplotlib inline\n",
        "\n",
        "  image = cv2.imread(path)\n",
        "  height, width = image.shape[:2]\n",
        "  resized_image = cv2.resize(image,(3*width, 3*height), interpolation = cv2.INTER_CUBIC)\n",
        "\n",
        "  fig = plt.gcf()\n",
        "  fig.set_size_inches(12, 8)\n",
        "  plt.axis(\"off\")\n",
        "  plt.imshow(cv2.cvtColor(resized_image, cv2.COLOR_BGR2RGB))\n",
        "  plt.show()\n",
        "\n",
        "# use this to upload files\n",
        "def upload():\n",
        "  from google.colab import files\n",
        "  uploaded = files.upload() \n",
        "  for name, data in uploaded.items():\n",
        "    with open(name, 'wb') as f:\n",
        "      f.write(data)\n",
        "      print ('saved file', name)\n",
        "\n",
        "# use this to download a file  \n",
        "def download(path):\n",
        "  from google.colab import files\n",
        "  files.download(path)"
      ],
      "execution_count": null,
      "outputs": []
    },
    {
      "cell_type": "markdown",
      "metadata": {
        "id": "8ppsTIG0CtX3"
      },
      "source": [
        "### Mount Google Drive to Use files"
      ]
    },
    {
      "cell_type": "code",
      "metadata": {
        "id": "j9lmJEnGEu-7",
        "colab": {
          "base_uri": "https://localhost:8080/"
        },
        "outputId": "ec4315cc-bff5-422b-b32a-31e51028af1f"
      },
      "source": [
        "%cd ..\n",
        "from google.colab import drive\n",
        "drive.mount('/content/gdrive')\n",
        "# drive.mount('/content/drive')"
      ],
      "execution_count": null,
      "outputs": [
        {
          "output_type": "stream",
          "name": "stdout",
          "text": [
            "/content\n",
            "Mounted at /content/gdrive\n"
          ]
        }
      ]
    },
    {
      "cell_type": "code",
      "metadata": {
        "id": "yreDPcJdoo29"
      },
      "source": [
        "# this creates a symbolic link so that now the path /content/gdrive/My\\ Drive/ is equal to /mydrive\n",
        "!ln -s /content/gdrive/My\\ Drive/ /mydrive\n",
        "!ls /mydrive"
      ],
      "execution_count": null,
      "outputs": []
    },
    {
      "cell_type": "code",
      "metadata": {
        "id": "ucpOylJFWyfn",
        "colab": {
          "base_uri": "https://localhost:8080/"
        },
        "outputId": "e147b909-7b0b-441e-ac3f-c13bf7a23016"
      },
      "source": [
        "%cd darknet"
      ],
      "execution_count": null,
      "outputs": [
        {
          "output_type": "stream",
          "name": "stdout",
          "text": [
            "/content/darknet\n"
          ]
        }
      ]
    },
    {
      "cell_type": "markdown",
      "metadata": {
        "id": "h4F90N1lhXR2"
      },
      "source": [
        "# Training a Custom YOLOv3 Object Detector in the Cloud!"
      ]
    },
    {
      "cell_type": "code",
      "metadata": {
        "id": "0_JRC13hK7Zr",
        "colab": {
          "base_uri": "https://localhost:8080/"
        },
        "outputId": "73b7242a-c8b7-48dd-ba8e-3e0d2f6dede6"
      },
      "source": [
        "!ls /content/gdrive/MyDrive/NASA-LWS-Gravity-Wave-Project/localize_gw/"
      ],
      "execution_count": null,
      "outputs": [
        {
          "output_type": "stream",
          "name": "stdout",
          "text": [
            "backup\tgenerate_train.py  obj.data  obj.names\tobj.zip  res  yolov3_custom.cfg\n"
          ]
        }
      ]
    },
    {
      "cell_type": "code",
      "metadata": {
        "id": "YpljhMVHOx9X"
      },
      "source": [
        "!cp /content/gdrive/MyDrive/NASA-LWS-Gravity-Wave-Project/localize_gw/obj.zip ../"
      ],
      "execution_count": null,
      "outputs": []
    },
    {
      "cell_type": "code",
      "metadata": {
        "id": "45en565PPLce"
      },
      "source": [
        "# unzip the zip file and its contents should now be in /darknet/data/obj\n",
        "!unzip ../obj.zip -d /content/data/"
      ],
      "execution_count": null,
      "outputs": []
    },
    {
      "cell_type": "code",
      "source": [
        "!mv /content/data/obj /content/darknet/data"
      ],
      "metadata": {
        "id": "kfBcuvFC6Km0"
      },
      "execution_count": null,
      "outputs": []
    },
    {
      "cell_type": "markdown",
      "metadata": {
        "id": "bVst_Nyhkq0B"
      },
      "source": [
        "### Configuring Files for Training"
      ]
    },
    {
      "cell_type": "code",
      "metadata": {
        "id": "FKGP15SmrXLe"
      },
      "source": [
        "!cp /content/gdrive/MyDrive/NASA-LWS-Gravity-Wave-Project/localize_gw/yolov3_custom.cfg ./cfg"
      ],
      "execution_count": null,
      "outputs": []
    },
    {
      "cell_type": "code",
      "metadata": {
        "id": "qBmbHd7M16lK"
      },
      "source": [
        "!cp /content/gdrive/MyDrive/NASA-LWS-Gravity-Wave-Project/localize_gw/obj.names ./data\n",
        "!cp /content/gdrive/MyDrive/NASA-LWS-Gravity-Wave-Project/localize_gw/obj.data  ./data"
      ],
      "execution_count": null,
      "outputs": []
    },
    {
      "cell_type": "markdown",
      "metadata": {
        "id": "AynO1huO4Kzd"
      },
      "source": [
        "### Generating train.txt"
      ]
    },
    {
      "cell_type": "code",
      "metadata": {
        "id": "cKBeIp7V44nu"
      },
      "source": [
        "!cp /content/gdrive/MyDrive/NASA-LWS-Gravity-Wave-Project/localize_gw/generate_train.py ./"
      ],
      "execution_count": null,
      "outputs": []
    },
    {
      "cell_type": "markdown",
      "metadata": {
        "id": "k9Ikig-H5wpw"
      },
      "source": [
        "Now we simply run the python script to do all the work for us."
      ]
    },
    {
      "cell_type": "code",
      "metadata": {
        "id": "o4HBBgk3503F"
      },
      "source": [
        "!python ./generate_train.py"
      ],
      "execution_count": null,
      "outputs": []
    },
    {
      "cell_type": "code",
      "metadata": {
        "id": "CIFjMSlX6DfP",
        "colab": {
          "base_uri": "https://localhost:8080/"
        },
        "outputId": "b41bc4c2-cf7b-45fb-d2c4-19eb2d26b1dd"
      },
      "source": [
        "# verify train.txt can be seen in our darknet/data folder\n",
        "!ls data/"
      ],
      "execution_count": null,
      "outputs": [
        {
          "output_type": "stream",
          "name": "stdout",
          "text": [
            "9k.tree     eagle.jpg\t imagenet.labels.list\t   obj.data\t     scream.jpg\n",
            "coco9k.map  giraffe.jpg  imagenet.shortnames.list  obj.names\t     train.txt\n",
            "coco.names  goal.txt\t labels\t\t\t   openimages.names  voc.names\n",
            "dog.jpg     horses.jpg\t obj\t\t\t   person.jpg\n"
          ]
        }
      ]
    },
    {
      "cell_type": "markdown",
      "metadata": {
        "id": "DKDmFrUH7JHy"
      },
      "source": [
        "### Download pre-trained weights for the convolutional layers."
      ]
    },
    {
      "cell_type": "code",
      "metadata": {
        "id": "k5SYWDPv7qG-",
        "colab": {
          "base_uri": "https://localhost:8080/"
        },
        "outputId": "e2b4657d-3586-46dc-dbbc-f7d9b77cbab0"
      },
      "source": [
        "# upload pretrained convolutional layer weights\n",
        "!wget http://pjreddie.com/media/files/darknet53.conv.74"
      ],
      "execution_count": null,
      "outputs": [
        {
          "output_type": "stream",
          "name": "stdout",
          "text": [
            "URL transformed to HTTPS due to an HSTS policy\n",
            "--2022-11-01 18:38:46--  https://pjreddie.com/media/files/darknet53.conv.74\n",
            "Resolving pjreddie.com (pjreddie.com)... 128.208.4.108\n",
            "Connecting to pjreddie.com (pjreddie.com)|128.208.4.108|:443... connected.\n",
            "HTTP request sent, awaiting response... 200 OK\n",
            "Length: 162482580 (155M) [application/octet-stream]\n",
            "Saving to: ‘darknet53.conv.74’\n",
            "\n",
            "darknet53.conv.74   100%[===================>] 154.96M  17.8MB/s    in 9.9s    \n",
            "\n",
            "2022-11-01 18:38:57 (15.7 MB/s) - ‘darknet53.conv.74’ saved [162482580/162482580]\n",
            "\n"
          ]
        }
      ]
    },
    {
      "cell_type": "markdown",
      "metadata": {
        "id": "VHw00Cro8ONr"
      },
      "source": [
        "## Train Your Custom Object Detector!"
      ]
    },
    {
      "cell_type": "code",
      "metadata": {
        "id": "IrT9LSjc8LMt"
      },
      "source": [
        "## train your custom detector\n",
        "!./darknet detector train data/obj.data cfg/yolov3_custom.cfg darknet53.conv.74 -dont_show\n",
        "## !/content/darknet detector train data/obj.data cfg/yolov3_custom.cfg darknet53.conv.74 -dont_show"
      ],
      "execution_count": null,
      "outputs": []
    },
    {
      "cell_type": "markdown",
      "metadata": {
        "id": "WmevLHkCPAjL"
      },
      "source": [
        "You can observe a chart of how your model did throughout the training process by running the below command. It shows a chart of your average loss vs. iterations. For your model to be 'accurate' you would aim for a loss under 2."
      ]
    },
    {
      "cell_type": "code",
      "metadata": {
        "id": "8X8Hu3RLQB-2"
      },
      "source": [
        "imShow('chart.png')"
      ],
      "execution_count": null,
      "outputs": []
    },
    {
      "cell_type": "markdown",
      "metadata": {
        "id": "xCYF19wDArJz"
      },
      "source": [
        "**TRICK**: If for some reason you get an error or your Colab goes idle during training, you have not lost your weights! Every 100 iterations a weights file called **yolov3_custom_last.weights** is saved to **mydrive/yolov3/backup/** folder (wherever your backup folder is). This is why we created this folder in our Google drive and not on the cloud VM. If your runtime crashes and your backup folder was in your cloud VM you would lose your weights and your training progress.\n",
        "\n",
        "We can kick off training from our last saved weights file so that we don't have to restart! WOOHOO! Just run the following command but with your backup location.\n",
        "```\n",
        "!./darknet detector train data/obj.data cfg/yolov3_custom.cfg /mydrive/yolov3/backup/yolov3_custom_last.weights -dont_show\n",
        "```"
      ]
    },
    {
      "cell_type": "code",
      "metadata": {
        "id": "yE_Q7BXxXxMl"
      },
      "source": [
        "# !./darknet detector train data/obj.data cfg/yolov3_custom.cfg /mydrive/GW_localize/backup/yolov3_custom_last.weights -dont_show"
      ],
      "execution_count": null,
      "outputs": []
    },
    {
      "cell_type": "markdown",
      "metadata": {
        "id": "N29uHgipYsY2"
      },
      "source": [
        "# Step 6: Run Your Custom Object Detector!!!\n",
        "You have done it! You now have a custom object detector to make your very own detections. Time to test it out and have some fun!"
      ]
    },
    {
      "cell_type": "code",
      "metadata": {
        "id": "CzWTss9BZaDx",
        "colab": {
          "base_uri": "https://localhost:8080/"
        },
        "outputId": "5f9f0035-4a31-4eff-dead-4eef6d192dfb"
      },
      "source": [
        "# need to set our custom cfg to test mode \n",
        "%cd cfg\n",
        "!sed -i 's/batch=64/batch=1/' yolov3_custom.cfg\n",
        "!sed -i 's/subdivisions=16/subdivisions=1/' yolov3_custom.cfg\n",
        "%cd ..\n"
      ],
      "execution_count": null,
      "outputs": [
        {
          "output_type": "stream",
          "name": "stdout",
          "text": [
            "/content/darknet/cfg\n",
            "/content/darknet\n"
          ]
        }
      ]
    },
    {
      "cell_type": "markdown",
      "source": [
        "###Test a single file"
      ],
      "metadata": {
        "id": "Jz2jrozb04uD"
      }
    },
    {
      "cell_type": "code",
      "source": [
        "# # run your custom detector with this command (upload an image to your google drive to test, thresh flag sets accuracy that detection must be in order to show it)\n",
        "! ./darknet detector test data/obj.data cfg/yolov3_custom.cfg /content/gdrive/MyDrive/NASA-LWS-Gravity-Wave-Project/localize_gw/backup/yolov3_custom_last-400.weights -dont_show /content/gdrive/MyDrive/NASA-LWS-Gravity-Wave-Project/GW_localize/test_data/200.png #-thresh 0.1\n",
        "imShow('predictions.jpg')"
      ],
      "metadata": {
        "id": "lKTjE3uczj0M"
      },
      "execution_count": null,
      "outputs": []
    },
    {
      "cell_type": "markdown",
      "source": [
        "## Test for all files in a dir"
      ],
      "metadata": {
        "id": "gUrWS3q01MN9"
      }
    },
    {
      "cell_type": "code",
      "source": [
        "%%capture\n",
        "import os,sys\n",
        "import subprocess\n",
        "# directory = '/content/darknet/data/test/'\n",
        "dir = '/content/gdrive/MyDrive/NASA-LWS-Gravity-Wave-Project/GW_localize/test_data/'\n",
        "for filename in os.listdir(dir):\n",
        "    cmd =  \"./darknet detector test data/obj.data cfg/yolov3_custom_2.cfg /content/gdrive/MyDrive/NASA-LWS-Gravity-Wave-Project/localize_gw/backup/yolov3_custom_last-400.weights -dont_show -thresh 0.8 /content/gdrive/MyDrive/NASA-LWS-Gravity-Wave-Project/GW_localize/test_data/\" + filename\n",
        "    try:\n",
        "      !{cmd}\n",
        "    except:\n",
        "      print(\"failed\")\n",
        "    cmd = \"cp 'predictions.jpg' '/content/gdrive/MyDrive/NASA-LWS-Gravity-Wave-Project/localize_gw/res/\" + filename + \"_.8.jpg' \"\n",
        "    !{cmd}"
      ],
      "metadata": {
        "id": "xVFoY71YvW8L"
      },
      "execution_count": null,
      "outputs": []
    }
  ]
}